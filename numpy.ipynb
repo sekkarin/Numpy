{
    "cells": [
        {
            "cell_type": "code",
            "execution_count": null,
            "source": [
                "import numpy as np\r\n",
                "print(np.__version__)\r\n",
                "a = np.array([2,3,4]) #สร้างอาร์เรน์จากลิสต์\r\n",
                "b = np.array(range(1,100)) #สร้างอาร์เรน์จาก Range\r\n",
                "c = np.array((7,11,101,555)) #สร้างอาร์เรน์จาก ทูเพิล\r\n",
                "d = np.array([x**2 for x in range(0,100)]) #สร้างอาร์เรน์จาก for \r\n",
                "print(d)"
            ],
            "outputs": [],
            "metadata": {}
        },
        {
            "cell_type": "code",
            "execution_count": null,
            "source": [
                "import numpy as np\r\n",
                "#สร้้างโดยชังก์ชันของ Numpy\r\n",
                "# zeros(size) สร้าง ar โดยให้สมาชิกค่าเริ่มต้นคือ 0\r\n",
                "# ones(size) สร้าง ar โดยให้สมาชิกค่าเริ่มต้นคือ ๅ\r\n",
                "# full(size,value)สร้าง ar โดยให้สมาชิกเป็นค่าที่กำหนด value\r\n",
                "# arange(star,stop,step)\r\n",
                "# linspace(begin,end,size) \r\n",
                "# random.randint(low,hight,size)\r\n",
                "# random.unfiform(low,hight,size)\r\n",
                "# random.rand(size)\r\n",
                "a = np.zeros(10)\r\n",
                "b = np.ones(10)\r\n",
                "c = np.full(5,8)\r\n",
                "d = np.arange(0,100)\r\n",
                "e = np.arange(0,100,5)\r\n",
                "f = np.linspace(1,100,5)\r\n",
                "g = np.random.randint(0,100,10)\r\n",
                "h = np.random.uniform(1,101,10)\r\n",
                "i = np.random.rand(10)\r\n",
                "#การเข้าถึงอาร์เรย์\r\n",
                "print(d[5])\r\n",
                "print(d[5] + d[2])\r\n",
                "print(d[-5])\r\n",
                "# print(*d)\r\n",
                "for value in d: print(value)\r\n",
                "#การเข้าถึงช่วงๆ\r\n",
                "print(d[5:])"
            ],
            "outputs": [],
            "metadata": {}
        },
        {
            "cell_type": "code",
            "execution_count": null,
            "source": [
                "import numpy as np\r\n",
                "d = np.arange(0,100)\r\n",
                "print(d[0:15:2])\r\n",
                "inx = [0,2,19,21,15]\r\n",
                "# การเข้าถึงโดยใช้ ลิสต์\r\n",
                "a = d[inx]\r\n",
                "print(a)\r\n"
            ],
            "outputs": [],
            "metadata": {}
        },
        {
            "cell_type": "code",
            "execution_count": null,
            "source": [
                "# อาร์เรย์ 2 มิติ\r\n",
                "a2d = np.array([[1,2,3],[3,4,6]])\r\n",
                "print(a2d)\r\n",
                "a = np.zeros([3,2])\r\n",
                "b = np.ones([3,2])\r\n",
                "c = np.full([2,3],8)\r\n",
                "d = np.arange(0,100)\r\n",
                "e = np.arange(0,100,5)\r\n",
                "f = np.linspace(1,100,5)\r\n",
                "g = np.random.randint(0,100,[3,2])\r\n",
                "h = np.random.uniform(1,101,[3,2])\r\n",
                "i = np.random.rand(10,2)\r\n",
                "print(g[2,1])\r\n"
            ],
            "outputs": [],
            "metadata": {}
        },
        {
            "cell_type": "code",
            "execution_count": null,
            "source": [
                "# การคำนวนอาร์เรย์ อาร์เรย์ต้องมีขนาดเท่ากัน\r\n",
                "print(d+d)\r\n",
                "print(d+10)\r\n",
                "print(d-d)\r\n",
                "print(d*d)\r\n",
                "print(d/d)\r\n",
                "print(d**2)\r\n",
                "print(d==d)\r\n",
                "print(d>10)\r\n"
            ],
            "outputs": [],
            "metadata": {}
        },
        {
            "cell_type": "code",
            "execution_count": 148,
            "source": [
                "# ฟังก์ชันที่น่าสนใจ\r\n",
                "print(d.sum())\r\n",
                "print(d.min())\r\n",
                "print(d.max())\r\n",
                "print(d.mean())\r\n",
                "\r\n",
                "a1 = np.arange(1,11)\r\n",
                "print(a1.reshape(2,5))\r\n",
                "\r\n",
                "print(d.reshape(-1,4))\r\n",
                "print(d.reshape(4,-1))\r\n",
                "\r\n",
                "\r\n"
            ],
            "outputs": [
                {
                    "output_type": "stream",
                    "name": "stdout",
                    "text": [
                        "4950\n",
                        "0\n",
                        "99\n",
                        "49.5\n",
                        "[[ 1  2  3  4  5]\n",
                        " [ 6  7  8  9 10]]\n",
                        "[[ 0  1  2  3]\n",
                        " [ 4  5  6  7]\n",
                        " [ 8  9 10 11]\n",
                        " [12 13 14 15]\n",
                        " [16 17 18 19]\n",
                        " [20 21 22 23]\n",
                        " [24 25 26 27]\n",
                        " [28 29 30 31]\n",
                        " [32 33 34 35]\n",
                        " [36 37 38 39]\n",
                        " [40 41 42 43]\n",
                        " [44 45 46 47]\n",
                        " [48 49 50 51]\n",
                        " [52 53 54 55]\n",
                        " [56 57 58 59]\n",
                        " [60 61 62 63]\n",
                        " [64 65 66 67]\n",
                        " [68 69 70 71]\n",
                        " [72 73 74 75]\n",
                        " [76 77 78 79]\n",
                        " [80 81 82 83]\n",
                        " [84 85 86 87]\n",
                        " [88 89 90 91]\n",
                        " [92 93 94 95]\n",
                        " [96 97 98 99]]\n"
                    ]
                }
            ],
            "metadata": {}
        },
        {
            "cell_type": "code",
            "execution_count": null,
            "source": [],
            "outputs": [],
            "metadata": {}
        },
        {
            "cell_type": "code",
            "execution_count": null,
            "source": [],
            "outputs": [],
            "metadata": {}
        },
        {
            "cell_type": "markdown",
            "source": [
                "import numpy as np\r\n",
                "d = np.arange(0,100)\r\n"
            ],
            "metadata": {}
        },
        {
            "cell_type": "markdown",
            "source": [],
            "metadata": {}
        }
    ],
    "metadata": {
        "orig_nbformat": 4,
        "language_info": {
            "name": "python",
            "version": "3.8.5",
            "mimetype": "text/x-python",
            "codemirror_mode": {
                "name": "ipython",
                "version": 3
            },
            "pygments_lexer": "ipython3",
            "nbconvert_exporter": "python",
            "file_extension": ".py"
        },
        "kernelspec": {
            "name": "python3",
            "display_name": "Python 3.8.5 32-bit"
        },
        "interpreter": {
            "hash": "56ecc29f6236d9c123d2256eefcfacfd681dfe4c3c80344d24ac968458ec54aa"
        }
    },
    "nbformat": 4,
    "nbformat_minor": 2
}